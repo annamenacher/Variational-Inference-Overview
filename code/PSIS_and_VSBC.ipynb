{
 "cells": [
  {
   "cell_type": "code",
   "execution_count": 1,
   "metadata": {},
   "outputs": [],
   "source": [
    "import matplotlib.pyplot as plt\n",
    "%matplotlib inline\n",
    "import numpy as np\n",
    "from sklearn import datasets\n",
    "import scipy.stats as stats\n",
    "from sklearn.model_selection import train_test_split\n",
    "import pandas as pd\n",
    "import pymc3 as pm\n",
    "import seaborn as sns\n",
    "import theano\n",
    "import dill"
   ]
  },
  {
   "cell_type": "markdown",
   "metadata": {},
   "source": [
    "### 1. Data Processing:"
   ]
  },
  {
   "cell_type": "code",
   "execution_count": 2,
   "metadata": {},
   "outputs": [],
   "source": [
    "# Load the diabetes dataset\n",
    "diabetes = datasets.load_diabetes()"
   ]
  },
  {
   "cell_type": "code",
   "execution_count": 3,
   "metadata": {},
   "outputs": [],
   "source": [
    "X = pd.DataFrame(diabetes['data'], columns = diabetes['feature_names'])"
   ]
  },
  {
   "cell_type": "code",
   "execution_count": 4,
   "metadata": {},
   "outputs": [],
   "source": [
    "y = pd.DataFrame(diabetes['target'], columns = ['y'])"
   ]
  },
  {
   "cell_type": "markdown",
   "metadata": {},
   "source": [
    "#### Features:"
   ]
  },
  {
   "cell_type": "code",
   "execution_count": 5,
   "metadata": {},
   "outputs": [
    {
     "data": {
      "text/html": [
       "<div>\n",
       "<style scoped>\n",
       "    .dataframe tbody tr th:only-of-type {\n",
       "        vertical-align: middle;\n",
       "    }\n",
       "\n",
       "    .dataframe tbody tr th {\n",
       "        vertical-align: top;\n",
       "    }\n",
       "\n",
       "    .dataframe thead th {\n",
       "        text-align: right;\n",
       "    }\n",
       "</style>\n",
       "<table border=\"1\" class=\"dataframe\">\n",
       "  <thead>\n",
       "    <tr style=\"text-align: right;\">\n",
       "      <th></th>\n",
       "      <th>age</th>\n",
       "      <th>sex</th>\n",
       "      <th>bmi</th>\n",
       "      <th>bp</th>\n",
       "      <th>s1</th>\n",
       "      <th>s2</th>\n",
       "      <th>s3</th>\n",
       "      <th>s4</th>\n",
       "      <th>s5</th>\n",
       "      <th>s6</th>\n",
       "      <th>y</th>\n",
       "    </tr>\n",
       "  </thead>\n",
       "  <tbody>\n",
       "    <tr>\n",
       "      <th>0</th>\n",
       "      <td>16.829551</td>\n",
       "      <td>1.0</td>\n",
       "      <td>27.269723</td>\n",
       "      <td>9.667581</td>\n",
       "      <td>-19.546786</td>\n",
       "      <td>-15.390777</td>\n",
       "      <td>-19.183174</td>\n",
       "      <td>-1.145780</td>\n",
       "      <td>8.799522</td>\n",
       "      <td>-7.799587</td>\n",
       "      <td>5.017280</td>\n",
       "    </tr>\n",
       "    <tr>\n",
       "      <th>1</th>\n",
       "      <td>-0.831851</td>\n",
       "      <td>0.0</td>\n",
       "      <td>-22.751535</td>\n",
       "      <td>-11.636903</td>\n",
       "      <td>-3.734336</td>\n",
       "      <td>-8.470196</td>\n",
       "      <td>32.889911</td>\n",
       "      <td>-17.456075</td>\n",
       "      <td>-30.201747</td>\n",
       "      <td>-40.754190</td>\n",
       "      <td>4.317488</td>\n",
       "    </tr>\n",
       "    <tr>\n",
       "      <th>2</th>\n",
       "      <td>37.702117</td>\n",
       "      <td>1.0</td>\n",
       "      <td>19.647436</td>\n",
       "      <td>-2.506410</td>\n",
       "      <td>-20.154957</td>\n",
       "      <td>-15.113954</td>\n",
       "      <td>-14.301322</td>\n",
       "      <td>-1.145780</td>\n",
       "      <td>1.265787</td>\n",
       "      <td>-11.461210</td>\n",
       "      <td>4.948760</td>\n",
       "    </tr>\n",
       "    <tr>\n",
       "      <th>3</th>\n",
       "      <td>-39.365819</td>\n",
       "      <td>0.0</td>\n",
       "      <td>-5.124996</td>\n",
       "      <td>-16.202149</td>\n",
       "      <td>5.388231</td>\n",
       "      <td>11.045842</td>\n",
       "      <td>-15.928606</td>\n",
       "      <td>15.164516</td>\n",
       "      <td>10.029874</td>\n",
       "      <td>-4.137965</td>\n",
       "      <td>5.327876</td>\n",
       "    </tr>\n",
       "    <tr>\n",
       "      <th>4</th>\n",
       "      <td>2.379313</td>\n",
       "      <td>0.0</td>\n",
       "      <td>-16.082034</td>\n",
       "      <td>9.667581</td>\n",
       "      <td>1.739204</td>\n",
       "      <td>6.893494</td>\n",
       "      <td>3.598801</td>\n",
       "      <td>-1.145780</td>\n",
       "      <td>-14.140219</td>\n",
       "      <td>-20.615266</td>\n",
       "      <td>4.905275</td>\n",
       "    </tr>\n",
       "  </tbody>\n",
       "</table>\n",
       "</div>"
      ],
      "text/plain": [
       "         age  sex        bmi         bp         s1         s2         s3  \\\n",
       "0  16.829551  1.0  27.269723   9.667581 -19.546786 -15.390777 -19.183174   \n",
       "1  -0.831851  0.0 -22.751535 -11.636903  -3.734336  -8.470196  32.889911   \n",
       "2  37.702117  1.0  19.647436  -2.506410 -20.154957 -15.113954 -14.301322   \n",
       "3 -39.365819  0.0  -5.124996 -16.202149   5.388231  11.045842 -15.928606   \n",
       "4   2.379313  0.0 -16.082034   9.667581   1.739204   6.893494   3.598801   \n",
       "\n",
       "          s4         s5         s6         y  \n",
       "0  -1.145780   8.799522  -7.799587  5.017280  \n",
       "1 -17.456075 -30.201747 -40.754190  4.317488  \n",
       "2  -1.145780   1.265787 -11.461210  4.948760  \n",
       "3  15.164516  10.029874  -4.137965  5.327876  \n",
       "4  -1.145780 -14.140219 -20.615266  4.905275  "
      ]
     },
     "execution_count": 5,
     "metadata": {},
     "output_type": "execute_result"
    }
   ],
   "source": [
    "data = X\n",
    "data = data * np.shape(data)[0]\n",
    "data['y'] = np.log(y)\n",
    "data['sex'][data['sex']>0] = 1\n",
    "data['sex'][data['sex']<0] = 0\n",
    "data.head()"
   ]
  },
  {
   "cell_type": "markdown",
   "metadata": {},
   "source": [
    "#### Labels:"
   ]
  },
  {
   "cell_type": "code",
   "execution_count": 6,
   "metadata": {},
   "outputs": [
    {
     "data": {
      "text/html": [
       "<div>\n",
       "<style scoped>\n",
       "    .dataframe tbody tr th:only-of-type {\n",
       "        vertical-align: middle;\n",
       "    }\n",
       "\n",
       "    .dataframe tbody tr th {\n",
       "        vertical-align: top;\n",
       "    }\n",
       "\n",
       "    .dataframe thead th {\n",
       "        text-align: right;\n",
       "    }\n",
       "</style>\n",
       "<table border=\"1\" class=\"dataframe\">\n",
       "  <thead>\n",
       "    <tr style=\"text-align: right;\">\n",
       "      <th></th>\n",
       "      <th>0</th>\n",
       "      <th>1</th>\n",
       "      <th>2</th>\n",
       "      <th>3</th>\n",
       "      <th>4</th>\n",
       "      <th>5</th>\n",
       "      <th>6</th>\n",
       "      <th>7</th>\n",
       "      <th>8</th>\n",
       "      <th>9</th>\n",
       "      <th>...</th>\n",
       "      <th>432</th>\n",
       "      <th>433</th>\n",
       "      <th>434</th>\n",
       "      <th>435</th>\n",
       "      <th>436</th>\n",
       "      <th>437</th>\n",
       "      <th>438</th>\n",
       "      <th>439</th>\n",
       "      <th>440</th>\n",
       "      <th>441</th>\n",
       "    </tr>\n",
       "  </thead>\n",
       "  <tbody>\n",
       "    <tr>\n",
       "      <th>y</th>\n",
       "      <td>151.0</td>\n",
       "      <td>75.0</td>\n",
       "      <td>141.0</td>\n",
       "      <td>206.0</td>\n",
       "      <td>135.0</td>\n",
       "      <td>97.0</td>\n",
       "      <td>138.0</td>\n",
       "      <td>63.0</td>\n",
       "      <td>110.0</td>\n",
       "      <td>310.0</td>\n",
       "      <td>...</td>\n",
       "      <td>173.0</td>\n",
       "      <td>72.0</td>\n",
       "      <td>49.0</td>\n",
       "      <td>64.0</td>\n",
       "      <td>48.0</td>\n",
       "      <td>178.0</td>\n",
       "      <td>104.0</td>\n",
       "      <td>132.0</td>\n",
       "      <td>220.0</td>\n",
       "      <td>57.0</td>\n",
       "    </tr>\n",
       "  </tbody>\n",
       "</table>\n",
       "<p>1 rows × 442 columns</p>\n",
       "</div>"
      ],
      "text/plain": [
       "     0     1      2      3      4     5      6     7      8      9    ...  \\\n",
       "y  151.0  75.0  141.0  206.0  135.0  97.0  138.0  63.0  110.0  310.0  ...   \n",
       "\n",
       "     432   433   434   435   436    437    438    439    440   441  \n",
       "y  173.0  72.0  49.0  64.0  48.0  178.0  104.0  132.0  220.0  57.0  \n",
       "\n",
       "[1 rows x 442 columns]"
      ]
     },
     "execution_count": 6,
     "metadata": {},
     "output_type": "execute_result"
    }
   ],
   "source": [
    "y.T"
   ]
  },
  {
   "cell_type": "code",
   "execution_count": 7,
   "metadata": {},
   "outputs": [],
   "source": [
    "train, test = train_test_split(data, test_size=0.2)"
   ]
  },
  {
   "cell_type": "code",
   "execution_count": 8,
   "metadata": {},
   "outputs": [],
   "source": [
    "age_tensor = theano.shared(train.age.values.astype('float64'))\n",
    "sex_tensor = theano.shared(train.sex.values.astype('float64'))\n",
    "bmi_tensor = theano.shared(train.bmi.values.astype('float64'))\n",
    "bp_tensor = theano.shared(train.bp.values.astype('float64'))\n",
    "y_tensor = theano.shared(train.y.values.astype('float64'))"
   ]
  },
  {
   "cell_type": "markdown",
   "metadata": {},
   "source": [
    "### 2. Fit Model using HMC"
   ]
  },
  {
   "cell_type": "code",
   "execution_count": 9,
   "metadata": {},
   "outputs": [],
   "source": [
    "with pm.Model() as model:\n",
    "    alpha = pm.Normal('alpha', mu=0, sd=1, shape=1)\n",
    "    beta_age = pm.Normal('beta_age', mu=0, sd=1, shape=1)\n",
    "    beta_sex = pm.Normal('beta_sex', mu=0, sd=1, shape=1)\n",
    "    beta_bmi = pm.Normal('beta_bmi', mu=0, sd=1, shape=1)\n",
    "    beta_bp = pm.Normal('beta_bp', mu=0, sd=1, shape=1)\n",
    "    sigma = pm.Gamma('sigma', alpha=0.5, beta=0.5, shape=1)\n",
    "    mu_likelihood = alpha + beta_age * age_tensor + beta_sex * sex_tensor + beta_bmi * bmi_tensor + beta_bp * bp_tensor\n",
    "    y_likelihood = pm.Normal('y', mu=mu_likelihood, sd=sigma, observed=y_tensor)"
   ]
  },
  {
   "cell_type": "code",
   "execution_count": 10,
   "metadata": {},
   "outputs": [
    {
     "name": "stderr",
     "output_type": "stream",
     "text": [
      "Multiprocess sampling (2 chains in 2 jobs)\n",
      "NUTS: [sigma, beta_bp, beta_bmi, beta_sex, beta_age, alpha]\n",
      "Sampling 2 chains: 100%|███████████████████████████████████████████████████| 102000/102000 [02:27<00:00, 693.08draws/s]\n"
     ]
    }
   ],
   "source": [
    "np.random.seed(47294)\n",
    "with model:\n",
    "    step = pm.NUTS()\n",
    "    hmc_trace = pm.sample(draws=50000, tune=1000, step=step)"
   ]
  },
  {
   "cell_type": "code",
   "execution_count": 11,
   "metadata": {},
   "outputs": [
    {
     "name": "stderr",
     "output_type": "stream",
     "text": [
      "C:\\Users\\chris\\Anaconda3\\envs\\ml\\lib\\site-packages\\pymc3\\stats.py:991: FutureWarning: The join_axes-keyword is deprecated. Use .reindex or .reindex_like on the result to achieve the same functionality.\n",
      "  axis=1, join_axes=[dforg.index])\n"
     ]
    },
    {
     "data": {
      "text/html": [
       "<div>\n",
       "<style scoped>\n",
       "    .dataframe tbody tr th:only-of-type {\n",
       "        vertical-align: middle;\n",
       "    }\n",
       "\n",
       "    .dataframe tbody tr th {\n",
       "        vertical-align: top;\n",
       "    }\n",
       "\n",
       "    .dataframe thead th {\n",
       "        text-align: right;\n",
       "    }\n",
       "</style>\n",
       "<table border=\"1\" class=\"dataframe\">\n",
       "  <thead>\n",
       "    <tr style=\"text-align: right;\">\n",
       "      <th></th>\n",
       "      <th>mean</th>\n",
       "      <th>sd</th>\n",
       "      <th>mc_error</th>\n",
       "      <th>hpd_2.5</th>\n",
       "      <th>hpd_97.5</th>\n",
       "      <th>n_eff</th>\n",
       "      <th>Rhat</th>\n",
       "    </tr>\n",
       "  </thead>\n",
       "  <tbody>\n",
       "    <tr>\n",
       "      <th>alpha__0</th>\n",
       "      <td>4.898501</td>\n",
       "      <td>0.032605</td>\n",
       "      <td>0.000105</td>\n",
       "      <td>4.834731</td>\n",
       "      <td>4.962859</td>\n",
       "      <td>94304.822810</td>\n",
       "      <td>1.000057</td>\n",
       "    </tr>\n",
       "    <tr>\n",
       "      <th>beta_age__0</th>\n",
       "      <td>0.000834</td>\n",
       "      <td>0.001187</td>\n",
       "      <td>0.000004</td>\n",
       "      <td>-0.001499</td>\n",
       "      <td>0.003162</td>\n",
       "      <td>110660.017812</td>\n",
       "      <td>0.999995</td>\n",
       "    </tr>\n",
       "    <tr>\n",
       "      <th>beta_sex__0</th>\n",
       "      <td>-0.034035</td>\n",
       "      <td>0.049601</td>\n",
       "      <td>0.000169</td>\n",
       "      <td>-0.131370</td>\n",
       "      <td>0.062995</td>\n",
       "      <td>92221.549620</td>\n",
       "      <td>1.000046</td>\n",
       "    </tr>\n",
       "    <tr>\n",
       "      <th>beta_bmi__0</th>\n",
       "      <td>0.011637</td>\n",
       "      <td>0.001257</td>\n",
       "      <td>0.000004</td>\n",
       "      <td>0.009117</td>\n",
       "      <td>0.014040</td>\n",
       "      <td>108456.136277</td>\n",
       "      <td>0.999995</td>\n",
       "    </tr>\n",
       "    <tr>\n",
       "      <th>beta_bp__0</th>\n",
       "      <td>0.006568</td>\n",
       "      <td>0.001342</td>\n",
       "      <td>0.000004</td>\n",
       "      <td>0.003972</td>\n",
       "      <td>0.009218</td>\n",
       "      <td>102641.246642</td>\n",
       "      <td>0.999995</td>\n",
       "    </tr>\n",
       "    <tr>\n",
       "      <th>sigma__0</th>\n",
       "      <td>0.447019</td>\n",
       "      <td>0.017045</td>\n",
       "      <td>0.000048</td>\n",
       "      <td>0.413864</td>\n",
       "      <td>0.480606</td>\n",
       "      <td>105882.233952</td>\n",
       "      <td>0.999994</td>\n",
       "    </tr>\n",
       "  </tbody>\n",
       "</table>\n",
       "</div>"
      ],
      "text/plain": [
       "                 mean        sd  mc_error   hpd_2.5  hpd_97.5          n_eff  \\\n",
       "alpha__0     4.898501  0.032605  0.000105  4.834731  4.962859   94304.822810   \n",
       "beta_age__0  0.000834  0.001187  0.000004 -0.001499  0.003162  110660.017812   \n",
       "beta_sex__0 -0.034035  0.049601  0.000169 -0.131370  0.062995   92221.549620   \n",
       "beta_bmi__0  0.011637  0.001257  0.000004  0.009117  0.014040  108456.136277   \n",
       "beta_bp__0   0.006568  0.001342  0.000004  0.003972  0.009218  102641.246642   \n",
       "sigma__0     0.447019  0.017045  0.000048  0.413864  0.480606  105882.233952   \n",
       "\n",
       "                 Rhat  \n",
       "alpha__0     1.000057  \n",
       "beta_age__0  0.999995  \n",
       "beta_sex__0  1.000046  \n",
       "beta_bmi__0  0.999995  \n",
       "beta_bp__0   0.999995  \n",
       "sigma__0     0.999994  "
      ]
     },
     "execution_count": 11,
     "metadata": {},
     "output_type": "execute_result"
    }
   ],
   "source": [
    "#pm.traceplot(hmc_trace)\n",
    "pm.summary(hmc_trace)"
   ]
  },
  {
   "cell_type": "markdown",
   "metadata": {},
   "source": [
    "### 3. Fit model using Variational Inference"
   ]
  },
  {
   "cell_type": "markdown",
   "metadata": {},
   "source": [
    "#### Map tensors for custom gradients:"
   ]
  },
  {
   "cell_type": "code",
   "execution_count": 12,
   "metadata": {},
   "outputs": [
    {
     "name": "stderr",
     "output_type": "stream",
     "text": [
      "C:\\Users\\chris\\Anaconda3\\envs\\ml\\lib\\site-packages\\pymc3\\data.py:245: FutureWarning: Using a non-tuple sequence for multidimensional indexing is deprecated; use `arr[tuple(seq)]` instead of `arr[seq]`. In the future this will be interpreted as an array index, `arr[np.array(seq)]`, which will result either in an error or a different result.\n",
      "  self.shared = theano.shared(data[in_memory_slc])\n",
      "C:\\Users\\chris\\Anaconda3\\envs\\ml\\lib\\site-packages\\pymc3\\data.py:245: FutureWarning: Using a non-tuple sequence for multidimensional indexing is deprecated; use `arr[tuple(seq)]` instead of `arr[seq]`. In the future this will be interpreted as an array index, `arr[np.array(seq)]`, which will result either in an error or a different result.\n",
      "  self.shared = theano.shared(data[in_memory_slc])\n"
     ]
    }
   ],
   "source": [
    "map_tensor_batch = {age_tensor: pm.Minibatch(train.age.values, 100),\n",
    "                    sex_tensor: pm.Minibatch(train.sex.values, 100),\n",
    "                    bmi_tensor: pm.Minibatch(train.bmi.values, 100),\n",
    "                    bp_tensor: pm.Minibatch(train.bp.values, 100),\n",
    "                    y_tensor: pm.Minibatch(train.y.values, 100)}"
   ]
  },
  {
   "cell_type": "code",
   "execution_count": 13,
   "metadata": {},
   "outputs": [
    {
     "name": "stderr",
     "output_type": "stream",
     "text": [
      "Average Loss = 100.56: 100%|███████████████████████████████████████████████████| 40000/40000 [00:38<00:00, 1036.87it/s]\n",
      "Finished [100%]: Average Loss = 100.52\n"
     ]
    }
   ],
   "source": [
    "np.random.seed(34564)\n",
    "with model:\n",
    "    #advi_fit = pm.fit(method='asvgd', n=50000, more_replacements=map_tensor_batch)\n",
    "    advi_fit = pm.fit(method='advi', n=40000, more_replacements=map_tensor_batch)"
   ]
  },
  {
   "cell_type": "code",
   "execution_count": 14,
   "metadata": {},
   "outputs": [],
   "source": [
    "#advi_elbo = pd.DataFrame(\n",
    "#    {'log-ELBO': -np.log(advi_fit.hist),\n",
    "#     'n': np.arange(advi_fit.hist.shape[0])})\n",
    "\n",
    "#_ = sns.lineplot(y='log-ELBO', x='n', data=advi_elbo)"
   ]
  },
  {
   "cell_type": "code",
   "execution_count": 44,
   "metadata": {},
   "outputs": [
    {
     "data": {
      "text/html": [
       "<div>\n",
       "<style scoped>\n",
       "    .dataframe tbody tr th:only-of-type {\n",
       "        vertical-align: middle;\n",
       "    }\n",
       "\n",
       "    .dataframe tbody tr th {\n",
       "        vertical-align: top;\n",
       "    }\n",
       "\n",
       "    .dataframe thead th {\n",
       "        text-align: right;\n",
       "    }\n",
       "</style>\n",
       "<table border=\"1\" class=\"dataframe\">\n",
       "  <thead>\n",
       "    <tr style=\"text-align: right;\">\n",
       "      <th></th>\n",
       "      <th>mean</th>\n",
       "      <th>sd</th>\n",
       "      <th>mc_error</th>\n",
       "      <th>hpd_2.5</th>\n",
       "      <th>hpd_97.5</th>\n",
       "    </tr>\n",
       "  </thead>\n",
       "  <tbody>\n",
       "    <tr>\n",
       "      <th>alpha__0</th>\n",
       "      <td>4.884249</td>\n",
       "      <td>0.052780</td>\n",
       "      <td>0.000548</td>\n",
       "      <td>4.779077</td>\n",
       "      <td>4.986309</td>\n",
       "    </tr>\n",
       "    <tr>\n",
       "      <th>beta_age__0</th>\n",
       "      <td>0.000322</td>\n",
       "      <td>0.002495</td>\n",
       "      <td>0.000026</td>\n",
       "      <td>-0.004652</td>\n",
       "      <td>0.005053</td>\n",
       "    </tr>\n",
       "    <tr>\n",
       "      <th>beta_sex__0</th>\n",
       "      <td>-0.015906</td>\n",
       "      <td>0.075877</td>\n",
       "      <td>0.000863</td>\n",
       "      <td>-0.166859</td>\n",
       "      <td>0.129782</td>\n",
       "    </tr>\n",
       "    <tr>\n",
       "      <th>beta_bmi__0</th>\n",
       "      <td>0.012281</td>\n",
       "      <td>0.002524</td>\n",
       "      <td>0.000022</td>\n",
       "      <td>0.007442</td>\n",
       "      <td>0.017272</td>\n",
       "    </tr>\n",
       "    <tr>\n",
       "      <th>beta_bp__0</th>\n",
       "      <td>0.005534</td>\n",
       "      <td>0.002552</td>\n",
       "      <td>0.000025</td>\n",
       "      <td>0.000376</td>\n",
       "      <td>0.010394</td>\n",
       "    </tr>\n",
       "    <tr>\n",
       "      <th>sigma__0</th>\n",
       "      <td>0.463553</td>\n",
       "      <td>0.035723</td>\n",
       "      <td>0.000411</td>\n",
       "      <td>0.395286</td>\n",
       "      <td>0.534026</td>\n",
       "    </tr>\n",
       "  </tbody>\n",
       "</table>\n",
       "</div>"
      ],
      "text/plain": [
       "                 mean        sd  mc_error   hpd_2.5  hpd_97.5\n",
       "alpha__0     4.884249  0.052780  0.000548  4.779077  4.986309\n",
       "beta_age__0  0.000322  0.002495  0.000026 -0.004652  0.005053\n",
       "beta_sex__0 -0.015906  0.075877  0.000863 -0.166859  0.129782\n",
       "beta_bmi__0  0.012281  0.002524  0.000022  0.007442  0.017272\n",
       "beta_bp__0   0.005534  0.002552  0.000025  0.000376  0.010394\n",
       "sigma__0     0.463553  0.035723  0.000411  0.395286  0.534026"
      ]
     },
     "execution_count": 44,
     "metadata": {},
     "output_type": "execute_result"
    }
   ],
   "source": [
    "np.random.seed(324554)\n",
    "\n",
    "advi_trace = advi_fit.sample(10000)\n",
    "#pm.traceplot(advi_trace)\n",
    "pm.summary(advi_trace)"
   ]
  },
  {
   "cell_type": "markdown",
   "metadata": {},
   "source": [
    "### 4. Make predictions on test data:"
   ]
  },
  {
   "cell_type": "code",
   "execution_count": 16,
   "metadata": {},
   "outputs": [],
   "source": [
    "age_tensor.set_value(test.age.values.astype('float64'))\n",
    "sex_tensor.set_value(test.sex.values.astype('float64'))\n",
    "bmi_tensor.set_value(test.bmi.values.astype('float64'))\n",
    "bp_tensor.set_value(test.bp.values.astype('float64'))\n",
    "y_tensor.set_value(test.y.values.astype('float64'))"
   ]
  },
  {
   "cell_type": "code",
   "execution_count": 17,
   "metadata": {},
   "outputs": [
    {
     "name": "stderr",
     "output_type": "stream",
     "text": [
      "C:\\Users\\chris\\Anaconda3\\envs\\ml\\lib\\site-packages\\ipykernel_launcher.py:1: DeprecationWarning: sample_ppc() is deprecated.  Please use sample_posterior_predictive()\n",
      "  \"\"\"Entry point for launching an IPython kernel.\n",
      "100%|██████████████████████████████████████████████████████████████████████████████| 1000/1000 [00:15<00:00, 63.33it/s]\n",
      "C:\\Users\\chris\\Anaconda3\\envs\\ml\\lib\\site-packages\\ipykernel_launcher.py:4: DeprecationWarning: sample_ppc() is deprecated.  Please use sample_posterior_predictive()\n",
      "  after removing the cwd from sys.path.\n",
      "100%|██████████████████████████████████████████████████████████████████████████████| 1000/1000 [00:15<00:00, 64.98it/s]\n"
     ]
    },
    {
     "data": {
      "text/plain": [
       "<seaborn.axisgrid.FacetGrid at 0x1d72b892348>"
      ]
     },
     "execution_count": 17,
     "metadata": {},
     "output_type": "execute_result"
    },
    {
     "data": {
      "image/png": "[encoded data removed]",
      "text/plain": [
       "<Figure size 360x360 with 1 Axes>"
      ]
     },
     "metadata": {
      "needs_background": "light"
     },
     "output_type": "display_data"
    }
   ],
   "source": [
    "hmc_posterior_pred = pm.sample_ppc(hmc_trace, 1000, model)\n",
    "hmc_predictions = np.mean(np.exp(hmc_posterior_pred['y']), axis=0)\n",
    "\n",
    "advi_posterior_pred = pm.sample_ppc(advi_trace, 1000, model)\n",
    "advi_predictions = np.mean(np.exp(advi_posterior_pred['y']), axis=0)\n",
    "\n",
    "prediction_data = pd.DataFrame(\n",
    "    {'HMC': hmc_predictions, \n",
    "     'ADVI': advi_predictions, \n",
    "     'actual': np.exp(test.y),\n",
    "     'error_HMC': hmc_predictions - np.exp(test.y), \n",
    "     'error_ADVI': advi_predictions - np.exp(test.y)})\n",
    "\n",
    "g = sns.lmplot(y='ADVI', x='HMC', data=prediction_data,\n",
    "               line_kws={'color': 'red', 'alpha': 0.5})\n",
    "g.set(ylim=1)"
   ]
  },
  {
   "cell_type": "code",
   "execution_count": 18,
   "metadata": {},
   "outputs": [
    {
     "data": {
      "text/plain": [
       "(89,)"
      ]
     },
     "execution_count": 18,
     "metadata": {},
     "output_type": "execute_result"
    }
   ],
   "source": [
    "np.shape(hmc_predictions)"
   ]
  },
  {
   "cell_type": "code",
   "execution_count": 19,
   "metadata": {},
   "outputs": [
    {
     "data": {
      "text/html": [
       "<div>\n",
       "<style scoped>\n",
       "    .dataframe tbody tr th:only-of-type {\n",
       "        vertical-align: middle;\n",
       "    }\n",
       "\n",
       "    .dataframe tbody tr th {\n",
       "        vertical-align: top;\n",
       "    }\n",
       "\n",
       "    .dataframe thead th {\n",
       "        text-align: right;\n",
       "    }\n",
       "</style>\n",
       "<table border=\"1\" class=\"dataframe\">\n",
       "  <thead>\n",
       "    <tr style=\"text-align: right;\">\n",
       "      <th></th>\n",
       "      <th>y</th>\n",
       "      <th>pred_hmc</th>\n",
       "      <th>pred_advi</th>\n",
       "    </tr>\n",
       "  </thead>\n",
       "  <tbody>\n",
       "    <tr>\n",
       "      <th>233</th>\n",
       "      <td>90.0</td>\n",
       "      <td>153.898635</td>\n",
       "      <td>159.969799</td>\n",
       "    </tr>\n",
       "    <tr>\n",
       "      <th>67</th>\n",
       "      <td>97.0</td>\n",
       "      <td>130.166385</td>\n",
       "      <td>132.080338</td>\n",
       "    </tr>\n",
       "    <tr>\n",
       "      <th>2</th>\n",
       "      <td>141.0</td>\n",
       "      <td>183.753833</td>\n",
       "      <td>187.917137</td>\n",
       "    </tr>\n",
       "    <tr>\n",
       "      <th>119</th>\n",
       "      <td>200.0</td>\n",
       "      <td>116.059194</td>\n",
       "      <td>111.322911</td>\n",
       "    </tr>\n",
       "    <tr>\n",
       "      <th>382</th>\n",
       "      <td>132.0</td>\n",
       "      <td>194.843206</td>\n",
       "      <td>196.874672</td>\n",
       "    </tr>\n",
       "    <tr>\n",
       "      <th>...</th>\n",
       "      <td>...</td>\n",
       "      <td>...</td>\n",
       "      <td>...</td>\n",
       "    </tr>\n",
       "    <tr>\n",
       "      <th>218</th>\n",
       "      <td>214.0</td>\n",
       "      <td>94.009551</td>\n",
       "      <td>91.471839</td>\n",
       "    </tr>\n",
       "    <tr>\n",
       "      <th>117</th>\n",
       "      <td>281.0</td>\n",
       "      <td>175.254769</td>\n",
       "      <td>160.171168</td>\n",
       "    </tr>\n",
       "    <tr>\n",
       "      <th>341</th>\n",
       "      <td>263.0</td>\n",
       "      <td>227.224506</td>\n",
       "      <td>235.595933</td>\n",
       "    </tr>\n",
       "    <tr>\n",
       "      <th>91</th>\n",
       "      <td>164.0</td>\n",
       "      <td>166.628286</td>\n",
       "      <td>171.522400</td>\n",
       "    </tr>\n",
       "    <tr>\n",
       "      <th>412</th>\n",
       "      <td>261.0</td>\n",
       "      <td>284.914095</td>\n",
       "      <td>281.051089</td>\n",
       "    </tr>\n",
       "  </tbody>\n",
       "</table>\n",
       "<p>89 rows × 3 columns</p>\n",
       "</div>"
      ],
      "text/plain": [
       "         y    pred_hmc   pred_advi\n",
       "233   90.0  153.898635  159.969799\n",
       "67    97.0  130.166385  132.080338\n",
       "2    141.0  183.753833  187.917137\n",
       "119  200.0  116.059194  111.322911\n",
       "382  132.0  194.843206  196.874672\n",
       "..     ...         ...         ...\n",
       "218  214.0   94.009551   91.471839\n",
       "117  281.0  175.254769  160.171168\n",
       "341  263.0  227.224506  235.595933\n",
       "91   164.0  166.628286  171.522400\n",
       "412  261.0  284.914095  281.051089\n",
       "\n",
       "[89 rows x 3 columns]"
      ]
     },
     "execution_count": 19,
     "metadata": {},
     "output_type": "execute_result"
    }
   ],
   "source": [
    "results = pd.DataFrame(np.exp(test.y))\n",
    "results['pred_hmc'] = hmc_predictions\n",
    "results['pred_advi'] = advi_predictions\n",
    "results"
   ]
  },
  {
   "cell_type": "code",
   "execution_count": 20,
   "metadata": {},
   "outputs": [
    {
     "data": {
      "text/plain": [
       "573.4391311396222"
      ]
     },
     "execution_count": 20,
     "metadata": {},
     "output_type": "execute_result"
    }
   ],
   "source": [
    "np.sqrt(np.sum(np.square(np.array(results['y'])- np.array(results['pred_hmc']))))"
   ]
  },
  {
   "cell_type": "code",
   "execution_count": 21,
   "metadata": {},
   "outputs": [
    {
     "data": {
      "text/plain": [
       "586.7321890627509"
      ]
     },
     "execution_count": 21,
     "metadata": {},
     "output_type": "execute_result"
    }
   ],
   "source": [
    "np.sqrt(np.sum(np.square(np.array(results['y'])- np.array(results['pred_advi']))))"
   ]
  },
  {
   "cell_type": "markdown",
   "metadata": {},
   "source": [
    "#### Comparison to mean prediction on test data:"
   ]
  },
  {
   "cell_type": "code",
   "execution_count": 22,
   "metadata": {},
   "outputs": [
    {
     "data": {
      "text/plain": [
       "1530.3804560142937"
      ]
     },
     "execution_count": 22,
     "metadata": {},
     "output_type": "execute_result"
    }
   ],
   "source": [
    "np.sqrt(np.sum(np.square(np.mean(test.y.values.astype('float64'))- np.array(results['pred_hmc']))))"
   ]
  },
  {
   "cell_type": "markdown",
   "metadata": {},
   "source": [
    "### 5. Pareto Smoothed Importance Sampling"
   ]
  },
  {
   "cell_type": "code",
   "execution_count": 270,
   "metadata": {},
   "outputs": [],
   "source": [
    "y_tensor.set_value(train.y.values.astype('float64'))"
   ]
  },
  {
   "cell_type": "code",
   "execution_count": 260,
   "metadata": {},
   "outputs": [],
   "source": [
    "def PSIS(sample, drop=['sigma_log__']):\n",
    "    dists = {}\n",
    "    imp_weights = []\n",
    "    variables = list(sample.varnames)\n",
    "    for d in drop:\n",
    "        variables.remove(d)\n",
    "    n = len(sample[variables[0]])\n",
    "    for var in variables:\n",
    "        dists[var] = stats.gaussian_kde(sample[var][~np.isnan(sample[var])])\n",
    "    for i in range(n):\n",
    "        q = 1\n",
    "        for var in variables:\n",
    "            q *= dists[var].evaluate(sample[i][var][0])\n",
    "        theta = list(pd.DataFrame(sample[i]).values[0])\n",
    "        for d in drop:\n",
    "            theta.pop(sample.varnames.index(d))\n",
    "        p = np.sum(np.log(stats.norm.pdf(theta[:5]))) + np.log(stats.gamma.pdf(theta[-1], 0.5, scale=2))\n",
    "        exp_value = theta[0] + theta[1]*age_tensor.get_value() + theta[2]*sex_tensor.get_value() + \\\n",
    "                        theta[3]*bmi_tensor.get_value() + theta[4]*bp_tensor.get_value()\n",
    "        p += np.sum(np.log(stats.norm.pdf(y_tensor.get_value(), loc=exp_value, scale=theta[5])))\n",
    "        imp_weights.append((np.exp(p-np.log(q)))[0])\n",
    "    imp_weights = np.array(imp_weights)\n",
    "    M = int(round(min(n/5, 3*np.sqrt(n))))\n",
    "    gen_par_fit = stats.genpareto.fit(np.sort(imp_weights)[-M:]/np.sum(np.sort(imp_weights)[-M:])*(1e3))\n",
    "    trunc_weights = np.copy(imp_weights)\n",
    "    if gen_par_fit[0]<1:\n",
    "        mean_fit = gen_par_fit[1] + gen_par_fit[2]/(1-gen_par_fit[0])\n",
    "        trunc_weights[imp_weights >= np.sort(imp_weights)[-M]] = mean_fit*np.sum(np.sort(imp_weights)[-M:])/(1e3)\n",
    "    else:\n",
    "        mean_fit = np.infty\n",
    "        trunc_weights[imp_weights >= np.sort(imp_weights)[-M]] = np.sort(imp_weights)[-1]\n",
    "    k = gen_par_fit[0]\n",
    "    return [k, imp_weights, trunc_weights,  gen_par_fit]"
   ]
  },
  {
   "cell_type": "markdown",
   "metadata": {},
   "source": [
    "#### Importance weights are small, as the posterior density is unnormalised."
   ]
  },
  {
   "cell_type": "code",
   "execution_count": 282,
   "metadata": {},
   "outputs": [],
   "source": [
    "psis_model = PSIS(advi_trace)"
   ]
  },
  {
   "cell_type": "code",
   "execution_count": 294,
   "metadata": {},
   "outputs": [
    {
     "data": {
      "text/plain": [
       "(0.1512228143516779, 1.4158378385754335, 1.6351843919354239)"
      ]
     },
     "execution_count": 294,
     "metadata": {},
     "output_type": "execute_result"
    }
   ],
   "source": [
    "stats.genpareto.fit(np.sort(psis_model[1])[-M:]/np.sum(np.sort(psis_model[1])[-M:])*(1e3))"
   ]
  },
  {
   "cell_type": "markdown",
   "metadata": {},
   "source": [
    "### Value of k:"
   ]
  },
  {
   "cell_type": "code",
   "execution_count": 305,
   "metadata": {},
   "outputs": [
    {
     "data": {
      "text/plain": [
       "0.1512228143516779"
      ]
     },
     "execution_count": 305,
     "metadata": {},
     "output_type": "execute_result"
    }
   ],
   "source": [
    "psis_model[0]"
   ]
  },
  {
   "cell_type": "markdown",
   "metadata": {},
   "source": [
    "### 6. VI Diagnostics: VSBC:"
   ]
  },
  {
   "cell_type": "code",
   "execution_count": 119,
   "metadata": {},
   "outputs": [],
   "source": [
    "age_tensor.set_value(train.age.values.astype('float64'))\n",
    "sex_tensor.set_value(train.sex.values.astype('float64'))\n",
    "bmi_tensor.set_value(train.bmi.values.astype('float64'))\n",
    "bp_tensor.set_value(train.bp.values.astype('float64'))"
   ]
  },
  {
   "cell_type": "markdown",
   "metadata": {},
   "source": [
    "Cell below take ages to run (does VI n times) - produces results"
   ]
  },
  {
   "cell_type": "code",
   "execution_count": null,
   "metadata": {},
   "outputs": [],
   "source": [
    "np.random.seed(9472952)\n",
    "errs = []\n",
    "n = 300\n",
    "l=10000\n",
    "sim = {}\n",
    "variables = ['alpha','beta_age','beta_sex','beta_bmi','beta_bp','sigma']\n",
    "p_values = {}\n",
    "p_values_is = {}\n",
    "p_values_psis = {}\n",
    "k_s = []\n",
    "\n",
    "for var in variables:\n",
    "    sim[var] = []\n",
    "    p_values[var] = []\n",
    "    p_values_is[var] = []\n",
    "    p_values_psis[var] = []\n",
    "\n",
    "for i in range(n):\n",
    "    if ((i+1) % 5) == 0:\n",
    "        print(\"Iteration %s of %s\" % (i+1, n))\n",
    "    for var in variables:\n",
    "        sim[var].append(stats.norm.rvs(size=1)[0])\n",
    "    sim['sigma'][-1] = stats.gamma.rvs(0.5, scale=2, size=1)[0]\n",
    "    exp_value = sim['alpha'][-1] + sim['beta_age'][-1]*age_tensor.get_value() + sim['beta_sex'][-1]*sex_tensor.get_value() + \\\n",
    "                    sim['beta_bmi'][-1]*bmi_tensor.get_value() + sim['beta_bp'][-1]*bp_tensor.get_value()\n",
    "    sim['y'] = stats.norm.rvs(loc=exp_value, scale=sim['sigma'][-1], size=len(exp_value)) \n",
    "    y_tensor.set_value(sim['y'])\n",
    "    with model:\n",
    "        advi_fit = pm.fit(method='advi', progressbar = False, n=50000)\n",
    "    advi_sample = advi_fit.sample(l)\n",
    "    psis_output = PSIS(advi_sample)\n",
    "    k_s.append(psis_output[0])\n",
    "    try:\n",
    "        is_indices = np.random.choice(np.arange(l), size=l, p=psis_output[1]/np.sum(psis_output[1]))\n",
    "    except:\n",
    "        errs.append(1)\n",
    "        for var in variables:\n",
    "            p_values[var].append(np.sum(advi_sample[var]<sim[var][-1])/len(advi_sample[var]))\n",
    "        continue\n",
    "    errs.append(0)\n",
    "    psis_indices = np.random.choice(np.arange(l), size=l, p=psis_output[2]/np.sum(psis_output[2]))\n",
    "    for var in variables:\n",
    "        p_values[var].append(np.sum(advi_sample[var]<sim[var][-1])/len(advi_sample[var]))\n",
    "        p_values_is[var].append(np.sum(advi_sample[var][is_indices]<sim[var][-1])/l)\n",
    "        p_values_psis[var].append(np.sum(advi_sample[var][psis_indices]<sim[var][-1])/l)"
   ]
  },
  {
   "cell_type": "markdown",
   "metadata": {},
   "source": [
    "### Run the cell below to load the final results:"
   ]
  },
  {
   "cell_type": "code",
   "execution_count": 367,
   "metadata": {},
   "outputs": [],
   "source": [
    "with open(filename, 'rb') as f:\n",
    "    [p_values, p_values_is, p_values_psis, errs, k_s] = dill.load(f)"
   ]
  },
  {
   "cell_type": "markdown",
   "metadata": {},
   "source": [
    "### Standard VI p-values:"
   ]
  },
  {
   "cell_type": "code",
   "execution_count": 346,
   "metadata": {},
   "outputs": [
    {
     "data": {
      "image/png": "[encoded data removed]",
      "text/plain": [
       "<Figure size 1152x648 with 6 Axes>"
      ]
     },
     "metadata": {
      "needs_background": "light"
     },
     "output_type": "display_data"
    }
   ],
   "source": [
    "fig, axes = plt.subplots(2,3)\n",
    "axes = axes.reshape(6,)\n",
    "for i in range(6):\n",
    "    axes[i].hist(p_values[variables[i]])\n",
    "    axes[i].set_title(variables[i])\n",
    "#for key, value in p_values:\n",
    "fig.set_size_inches(16,9)\n",
    "plt.show()"
   ]
  },
  {
   "cell_type": "markdown",
   "metadata": {},
   "source": [
    "### VI with IS p-values"
   ]
  },
  {
   "cell_type": "code",
   "execution_count": 347,
   "metadata": {},
   "outputs": [
    {
     "data": {
      "image/png": "[encoded data removed]",
      "text/plain": [
       "<Figure size 1152x648 with 6 Axes>"
      ]
     },
     "metadata": {
      "needs_background": "light"
     },
     "output_type": "display_data"
    }
   ],
   "source": [
    "fig, axes = plt.subplots(2,3)\n",
    "axes = axes.reshape(6,)\n",
    "for i in range(6):\n",
    "    axes[i].hist(p_values_is[variables[i]])\n",
    "    axes[i].set_title(variables[i])\n",
    "#for key, value in p_values:\n",
    "fig.set_size_inches(16,9)\n",
    "plt.show()"
   ]
  },
  {
   "cell_type": "markdown",
   "metadata": {},
   "source": [
    "### VI with PSIS p-values"
   ]
  },
  {
   "cell_type": "code",
   "execution_count": 348,
   "metadata": {},
   "outputs": [
    {
     "data": {
      "image/png": "[encoded data removed]",
      "text/plain": [
       "<Figure size 1152x648 with 6 Axes>"
      ]
     },
     "metadata": {
      "needs_background": "light"
     },
     "output_type": "display_data"
    }
   ],
   "source": [
    "fig, axes = plt.subplots(2,3)\n",
    "axes = axes.reshape(6,)\n",
    "for i in range(6):\n",
    "    axes[i].hist(p_values_is[variables[i]])\n",
    "    axes[i].set_title(variables[i])\n",
    "#for key, value in p_values:\n",
    "fig.set_size_inches(16,9)\n",
    "plt.show()"
   ]
  },
  {
   "cell_type": "markdown",
   "metadata": {},
   "source": [
    "p-values for IS and PSIS appear to be very similar...."
   ]
  },
  {
   "cell_type": "code",
   "execution_count": 352,
   "metadata": {},
   "outputs": [
    {
     "data": {
      "text/plain": [
       "[0.536, 0.3279, 0.703, 0.2867, 0.9986, 0.0052, 0.5268, 0.9148, 0.5595, 0.7069]"
      ]
     },
     "execution_count": 352,
     "metadata": {},
     "output_type": "execute_result"
    }
   ],
   "source": [
    "p_values_psis['alpha'][:10]"
   ]
  },
  {
   "cell_type": "code",
   "execution_count": 353,
   "metadata": {},
   "outputs": [
    {
     "data": {
      "text/plain": [
       "[0.5477, 0.3334, 0.7026, 0.3061, 0.9984, 0.015, 0.5286, 0.9313, 0.5453, 0.6958]"
      ]
     },
     "execution_count": 353,
     "metadata": {},
     "output_type": "execute_result"
    }
   ],
   "source": [
    "p_values_is['alpha'][:10]"
   ]
  },
  {
   "cell_type": "markdown",
   "metadata": {},
   "source": [
    "Just over half of the generated k values are below 0.7 (indicating reasonable VI sample)"
   ]
  },
  {
   "cell_type": "code",
   "execution_count": 375,
   "metadata": {},
   "outputs": [
    {
     "data": {
      "text/plain": [
       "0.5340314136125655"
      ]
     },
     "execution_count": 375,
     "metadata": {},
     "output_type": "execute_result"
    }
   ],
   "source": [
    "np.sum(np.array(k_s)<=0.7)/len(np.array(k_s))"
   ]
  },
  {
   "cell_type": "markdown",
   "metadata": {},
   "source": [
    "Results show visual improvement in sampling quality of sigma, can add to the report."
   ]
  },
  {
   "cell_type": "code",
   "execution_count": 357,
   "metadata": {},
   "outputs": [],
   "source": [
    "# filename = 'p_value_results.pkl'\n",
    "# with open(filename, 'wb') as f:\n",
    "#     dill.dump([p_values, p_values_is, p_values_psis, errs, k_s], f)"
   ]
  },
  {
   "cell_type": "markdown",
   "metadata": {},
   "source": [
    "### Scrap Code"
   ]
  },
  {
   "cell_type": "code",
   "execution_count": 173,
   "metadata": {},
   "outputs": [],
   "source": [
    "sample = advi_sample\n",
    "dists = {}\n",
    "imp_weights = []\n",
    "variables = ['alpha', 'beta_age', 'beta_sex', 'beta_bmi', 'beta_bp', 'sigma']\n",
    "n = len(sample[variables[0]])\n",
    "for var in variables:\n",
    "    dists[var] = stats.gaussian_kde(sample[var][~np.isnan(sample[var])])\n",
    "for i in range(n):\n",
    "    q = 1\n",
    "    for var in variables:\n",
    "        q *= dists[var].evaluate(sample[i][var][0])\n",
    "    theta = list(pd.DataFrame(sample[i]).values[0])\n",
    "    theta.pop(5)\n",
    "    p = np.sum(np.log(stats.norm.pdf(theta[:5]))) + np.log(stats.gamma.pdf(theta[-1], 0.5, scale=2))\n",
    "    exp_value = theta[0] + theta[1]*age_tensor.get_value() + theta[2]*sex_tensor.get_value() + \\\n",
    "                    theta[3]*bmi_tensor.get_value() + theta[4]*bp_tensor.get_value()\n",
    "    p += np.sum(np.log(stats.norm.pdf(y_tensor.get_value(), loc=exp_value, scale=theta[5])))\n",
    "    imp_weights.append(np.exp(p-np.log(q))[0])\n",
    "imp_weights = np.array(imp_weights)\n",
    "M = int(round(min(n/5, 3*np.sqrt(n))))\n",
    "gen_par_fit = stats.genpareto.fit(np.sort(imp_weights)[-M:])\n",
    "if gen_par_fit[0]<1:\n",
    "    mean_fit = gen_par_fit[1] + gen_par_fit[2]/(1-gen_par_fit[0])\n",
    "else:\n",
    "    mean_fit = np.infty\n",
    "trunc_weights = np.copy(imp_weights)\n",
    "trunc_weights[imp_weights >= np.sort(imp_weights)[-M]] = mean_fit\n",
    "k = gen_par_fit[0]"
   ]
  }
 ],
 "metadata": {
  "kernelspec": {
   "display_name": "Python [conda env:ml]",
   "language": "python",
   "name": "conda-env-ml-py"
  },
  "language_info": {
   "codemirror_mode": {
    "name": "ipython",
    "version": 3
   },
   "file_extension": ".py",
   "mimetype": "text/x-python",
   "name": "python",
   "nbconvert_exporter": "python",
   "pygments_lexer": "ipython3",
   "version": "3.7.5"
  }
 },
 "nbformat": 4,
 "nbformat_minor": 2
}
